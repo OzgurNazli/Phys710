{
 "cells": [
  {
   "cell_type": "markdown",
   "source": [
    "# Preliminaries\n",
    "\n",
    "1. Install [Conda](https://conda.io/projects/conda/en/latest/user-guide/install/index.html)\n",
    "2. Install `git`\n",
    "3. Create a conda environment that runs python=3.8 and has packages `qiskit-machine-learning`, `jupyter` \n",
    "4. git pull  "
   ],
   "metadata": {
    "collapsed": false
   },
   "id": "b81630163f869d6d"
  }
 ],
 "metadata": {
  "celltoolbar": "Tags",
  "kernelspec": {
   "display_name": "Python 3",
   "language": "python",
   "name": "python3"
  },
  "language_info": {
   "codemirror_mode": {
    "name": "ipython",
    "version": 3
   },
   "file_extension": ".py",
   "mimetype": "text/x-python",
   "name": "python",
   "nbconvert_exporter": "python",
   "pygments_lexer": "ipython3",
   "version": "3.10.2"
  },
  "toc": {
   "base_numbering": 1,
   "nav_menu": {},
   "number_sections": true,
   "sideBar": true,
   "skip_h1_title": false,
   "title_cell": "Table of Contents",
   "title_sidebar": "Contents",
   "toc_cell": false,
   "toc_position": {},
   "toc_section_display": true,
   "toc_window_display": false
  },
  "vscode": {
   "interpreter": {
    "hash": "e2eee1ec3b7b75618be3bcd737c6b000914c302a788483aeea47c6724501a27e"
   }
  }
 },
 "nbformat": 4,
 "nbformat_minor": 5
}
